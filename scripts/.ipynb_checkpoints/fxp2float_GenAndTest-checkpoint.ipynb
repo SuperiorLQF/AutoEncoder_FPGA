{
 "cells": [
  {
   "cell_type": "markdown",
   "id": "8db15ac8-3c57-4cd6-86d9-5186764150ab",
   "metadata": {},
   "source": [
    "本篇用来测试浮点转定点`fxp2float_s module`的功能正确性"
   ]
  },
  {
   "cell_type": "code",
   "execution_count": 1,
   "id": "836c9473-f7e9-4acd-b697-c676b64fb078",
   "metadata": {},
   "outputs": [],
   "source": [
    "#软件生成的原始测试文件，包含了一系列16进制表示的FP32测试数据，高位在左，低位在右（因为符合readmem的要求）\n",
    "origin_target = '/home/superior/AutoEncoder_FPGA/output/tmp/fxp2float_test.hex'\n",
    "#随后测试数据输入到硬件，硬件通过readmem和writemem完成仿真读取和记录\n",
    "#硬件输出的定点数FXP[1,7]的数据\n",
    "verify_target = '/home/superior/AutoEncoder_FPGA/output/tmp/fxp2float_verify.hex'\n",
    "#输入数据的范围和测试的size\n",
    "number_min = -1;\n",
    "number_max = 1;\n",
    "test_size  = 256;"
   ]
  },
  {
   "cell_type": "code",
   "execution_count": 2,
   "id": "5d996f29-e1f0-4335-818e-111f72bd99d3",
   "metadata": {},
   "outputs": [],
   "source": [
    "import struct\n",
    "import random\n",
    "from fixedpoint import FixedPoint\n",
    "origin_lst =[]\n",
    "with open(origin_target,\"w\") as file:\n",
    "    for i in range(256):\n",
    "        if(i==0):\n",
    "            a = 0\n",
    "        else:\n",
    "            a = random.uniform(number_min,number_max)\n",
    "        a_obj = FixedPoint(a,signed=True,m=1,n=7,str_base=16,overflow='clamp',overflow_alert='ignore')\n",
    "        a = float(a_obj)\n",
    "        a_hex = str(a_obj)\n",
    "        origin_lst.append((a,a_hex))\n",
    "        file.write(f\"{a_hex}  //{a}\\n\")"
   ]
  },
  {
   "cell_type": "markdown",
   "id": "5d5ea647-c6ef-4a5b-a6ab-30beb3eb4f37",
   "metadata": {},
   "source": [
    "数据准备完毕，去vivado软件中运行仿真"
   ]
  },
  {
   "cell_type": "markdown",
   "id": "e54f19d2-e463-4c4d-baa6-794fb909b7b4",
   "metadata": {},
   "source": [
    "vivado仿真完毕，读取仿真结果并分析"
   ]
  },
  {
   "cell_type": "code",
   "execution_count": null,
   "id": "aab12105-0921-44cb-85ae-6c7f7c5c1298",
   "metadata": {},
   "outputs": [],
   "source": [
    "print(\"-\"*65)\n",
    "print(f\"\\33[1;7;32m|{'fp32':^20}|{'fp32(hex)':^15}|{'fxp':^12}|{'fxp(hex)':^15}|\\33[0m\")\n",
    "print(f\"|{'':^20}|{'MSB':<7}{'LSB':>8}|{'':^12}|{'MSB':<7}{'LSB':>8}|\")\n",
    "print(\"-\"*65)\n",
    "from fixedpoint import FixedPoint\n",
    "with open(verify_target,\"r\") as file:\n",
    "    for i in range(256):\n",
    "        b_str = file.readline().strip()\n",
    "        b_bytes = bytes.fromhex(a_hex)  # 十六进制字符串转为字节数据\n",
    "        b = struct.unpack('!f', b_bytes)[0]  # 解码为浮点数\n",
    "        print(f\"\\33[37;1m|{origin_lst[i][0]:>20}|{origin_lst[i][1]:>15}|{float(b_obj):>12}|{b_str:>15}|\\33[0m\")"
   ]
  }
 ],
 "metadata": {
  "kernelspec": {
   "display_name": "Python 3 (ipykernel)",
   "language": "python",
   "name": "python3"
  },
  "language_info": {
   "codemirror_mode": {
    "name": "ipython",
    "version": 3
   },
   "file_extension": ".py",
   "mimetype": "text/x-python",
   "name": "python",
   "nbconvert_exporter": "python",
   "pygments_lexer": "ipython3",
   "version": "3.10.14"
  },
  "widgets": {
   "application/vnd.jupyter.widget-state+json": {
    "state": {},
    "version_major": 2,
    "version_minor": 0
   }
  }
 },
 "nbformat": 4,
 "nbformat_minor": 5
}
